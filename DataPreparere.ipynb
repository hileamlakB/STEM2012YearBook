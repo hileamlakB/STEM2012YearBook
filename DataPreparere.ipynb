{
 "cells": [
  {
   "cell_type": "code",
   "execution_count": 1,
   "metadata": {},
   "outputs": [],
   "source": [
    "import os"
   ]
  },
  {
   "cell_type": "code",
   "execution_count": 8,
   "metadata": {},
   "outputs": [],
   "source": [
    "os.chdir(\"..\")\n",
    "allStudents = os.listdir()"
   ]
  },
  {
   "cell_type": "code",
   "execution_count": 76,
   "metadata": {},
   "outputs": [
    {
     "name": "stdout",
     "output_type": "stream",
     "text": [
      "['theam:#FF5733', \"quote:Mi luv y'all\\t\", 'year:2016-2021\\t', 'adress:Kebele 11 Diaspora, Bahir Dar, Ethiopia \\t', \"future:I don't know may be Addis Ababa \\t\", 'socialMedia: +251918764531 and aakselahsees@gmail.com ', \"anythingElse:That's great work. Make it more memorable using pictures we had. Thank yuh .. much love\"]\n",
      "{'future': \"I don't know may be Addis Ababa \\t\", 'quote': \"Mi luv y'all\\t\", 'theam': '#FF5733', 'socialMedia': ' +251918764531 and aakselahsees@gmail.com ', 'year': '2016-2021\\t', 'anythingElse': \"That's great work. Make it more memorable using pictures we had. Thank yuh .. much love\", 'adress': 'Kebele 11 Diaspora, Bahir Dar, Ethiopia \\t'}\n"
     ]
    }
   ],
   "source": [
    "allStudentData = []\n",
    "for eachStudent in allStudents:\n",
    "    name, middleName, lastName = eachStudent.split(\" \")\n",
    "    studentId = name[0:3]+middleName[0:3]+lastNam[0:3]\n",
    "    \n",
    "    os.chdir(eachStudent)\n",
    "    informations = os.listdir()\n",
    "    extraData = open(\"data.txt\",\"r\").read().split(\";\")\n",
    "    imgData = open(\"imageData.txt\",\"r\").read().split(\";\")\n",
    "    textInformmation = {data.split(\":\")[0]:data.split(\":\")[1] for data in extraData})\n",
    "    imageDeiscriptions = {data.split(\":\")[0]:[data.split(\":\")[1].split(\",\")[0], data.split(\":\")[1].split(\",\")[1]] for data in imgData}}\n",
    "    \n",
    "    individualData = {\n",
    "    \"fullName\":eachStudent,\n",
    "    \"quote\":textInformmation[\"quote\"],\n",
    "    \"age\":textInformmation[\"age\"],\n",
    "    \"schoolYear\":textInformmation[\"year\"],\n",
    "    \"address\":textInformmation[\"adress\"],\n",
    "    \"future\":textInformmation[\"future\"],\n",
    "    \"anythingElse\":textInformmation[\"anythingElse\"],\n",
    "    \"socialMedia\":textInformmation[\"socialMedia\"],\n",
    "    \"images\":[\n",
    "        [eachStudent+\"1.png\",[imageDeiscriptions[eachStudent+\"1\"][0],imageDeiscriptions[eachStudent+\"1\"][1]]],\n",
    "        [eachStudent+\"2.png\",[imageDeiscriptions[eachStudent+\"1\"][0],imageDeiscriptions[eachStudent+\"1\"][1]]],\n",
    "        [eachStudent+\"3.png\",[imageDeiscriptions[eachStudent+\"1\"][0],imageDeiscriptions[eachStudent+\"1\"][1]]],\n",
    "        [eachStudent+\"4.png\",[imageDeiscriptions[eachStudent+\"1\"][0],imageDeiscriptions[eachStudent+\"1\"][1]]],\n",
    "        [eachStudent+\"5.png\",[imageDeiscriptions[eachStudent+\"1\"][0],imageDeiscriptions[eachStudent+\"1\"][1]]],\n",
    "        [eachStudent+\"6.png\",[imageDeiscriptions[eachStudent+\"1\"][0],imageDeiscriptions[eachStudent+\"1\"][1]]],\n",
    "    \"cartoonImage\":eachStudent+\"cartoonImage.png\",\n",
    "    \"friendNotes\": [\"\",\"\"],\n",
    "    \"theam\":textInformmation[\"theam\"],\n",
    "    \"bgImage\":eachStudent+\"bgImage.jpg\"\n",
    "    }\n",
    "    allStudentData.append(individualStudent)\n",
    "        \n",
    "#use the jpg forma to find the background imge and givee it its poper name during procesing\n",
    "    os.chdir(\"..\")"
   ]
  },
  {
   "cell_type": "code",
   "execution_count": null,
   "metadata": {},
   "outputs": [
    {
     "name": "stdout",
     "output_type": "stream",
     "text": [
      "input the csv file name with its extention(.csv): formData.csv\n"
     ]
    }
   ],
   "source": [
    "import csv,os\n",
    "\n",
    "def organize(file_name):\n",
    "\t# open and read the whole csv file with csv reader\n",
    "\traw_file = open(file_name,encoding=\"utf-16\")\n",
    "\tall_students = csv.reader(raw_file) # full_data is object of reader\n",
    "\t#change the above 'full_data' object to list - readable data\n",
    "\tall_students = list(all_students)\n",
    "\tall_students.remove(all_students[0])\n",
    "\n",
    "\tfor student in all_students:\n",
    "        # extract the datas that will be written on the text file\n",
    "        # this assume the order of the questions will not be changed\n",
    "\n",
    "        # get name of the student\n",
    "\t\tstudent_name = student[1]\n",
    "\t\tif student_name.endswith(' '):\n",
    "\t\t\tstudent_name = student_name[:-1]\n",
    "\n",
    "\t\t# get theam \n",
    "\t\ttheam = checkTheamColor(student[2]) \n",
    "\n",
    "\t\t#get quote\n",
    "\t\tquote = student[4]\n",
    "\n",
    "\t\t# get start and leaving year\n",
    "\t\tstart_year = student[6][-4:]\n",
    "\t\tleave_year = student[7][-4:]\n",
    "\t\tyear = start_year + ' - ' + leave_year\n",
    "\n",
    "\t\t# get adress \n",
    "\t\tadress = student[8]\n",
    "\n",
    "\t\t# get future plan \n",
    "\t\tfuture = student[9]\n",
    "\n",
    "\t\t# get social media\n",
    "\t\tsocial_media = student[10]\n",
    "\t\t\n",
    "\t\t# get anything else \n",
    "\t\tanything_else = student[11]\n",
    "\n",
    "\t\t# make directory with the student's name\n",
    "\t\tif not os.path.exists(student_name):\n",
    "\t\t\tos.makedirs(student_name)\n",
    "\n",
    "\t\t#create a new text file with the same name for all studnets\n",
    "\t\tpath = student_name + \"/\" + \"data.txt\"\n",
    "\t\tdata = open(path, \"w\")\n",
    "\t\tdata.write(\"theam:\" + str(theam) + \";\")\n",
    "\t\tdata.write(\"quote:\" + quote + \";\")\n",
    "\t\tdata.write(\"year:\" + year + \";\")\n",
    "\t\tdata.write(\"adress:\" + adress + \";\")\n",
    "\t\tdata.write(\"future:\" + future + \";\")\n",
    "\t\tdata.write(\"socialMedia:\" + social_media + \";\")\n",
    "\t\tdata.write(\"anythingElse:\" + anything_else)\n",
    "\t\tdata.close()\n",
    "\tinput()\t\n",
    "\n",
    "\n",
    "try:\n",
    "    file_name = input(\"input the csv file name with its extention(.csv): \")\n",
    "    organize(file_name)\n",
    "\n",
    "except FileNotFoundError:\n",
    "\n",
    "    input(\"File Not Found!\") \n",
    "\n"
   ]
  },
  {
   "cell_type": "code",
   "execution_count": 13,
   "metadata": {},
   "outputs": [],
   "source": [
    "import re\n",
    "def checkTheamColor(colorInput):\n",
    "    if colorInput[0] != \"#\":\n",
    "        colorInput = \"#\"+colorInput \n",
    "    match = re.search(r'^#(?:[0-9a-fA-F]{3}){1,2}$', colorInput)\n",
    "    if match:                      \n",
    "      return colorInput\n",
    "\n",
    "    else:\n",
    "      return None"
   ]
  },
  {
   "cell_type": "code",
   "execution_count": 7,
   "metadata": {},
   "outputs": [
    {
     "ename": "FileNotFoundError",
     "evalue": "[Errno 2] No such file or directory: 'students'",
     "output_type": "error",
     "traceback": [
      "\u001b[0;31m---------------------------------------------------------------------------\u001b[0m",
      "\u001b[0;31mFileNotFoundError\u001b[0m                         Traceback (most recent call last)",
      "\u001b[0;32m<ipython-input-7-269f584e9623>\u001b[0m in \u001b[0;36m<module>\u001b[0;34m\u001b[0m\n\u001b[1;32m      1\u001b[0m \u001b[0;32mimport\u001b[0m \u001b[0mos\u001b[0m\u001b[0;34m\u001b[0m\u001b[0m\n\u001b[1;32m      2\u001b[0m \u001b[0mos\u001b[0m\u001b[0;34m.\u001b[0m\u001b[0mlistdir\u001b[0m\u001b[0;34m(\u001b[0m\u001b[0;34m)\u001b[0m\u001b[0;34m\u001b[0m\u001b[0m\n\u001b[0;32m----> 3\u001b[0;31m \u001b[0mos\u001b[0m\u001b[0;34m.\u001b[0m\u001b[0mchdir\u001b[0m\u001b[0;34m(\u001b[0m\u001b[0;34m\"students\"\u001b[0m\u001b[0;34m)\u001b[0m\u001b[0;34m\u001b[0m\u001b[0m\n\u001b[0m",
      "\u001b[0;31mFileNotFoundError\u001b[0m: [Errno 2] No such file or directory: 'students'"
     ]
    }
   ],
   "source": [
    "import os\n",
    "os.listdir()\n",
    "os.chdir(\"students\")\n"
   ]
  },
  {
   "cell_type": "code",
   "execution_count": 17,
   "metadata": {},
   "outputs": [
    {
     "data": {
      "text/plain": [
       "'hello'"
      ]
     },
     "execution_count": 17,
     "metadata": {},
     "output_type": "execute_result"
    }
   ],
   "source": [
    "h = \"hello\"\n",
    "str(h)"
   ]
  }
 ],
 "metadata": {
  "kernelspec": {
   "display_name": "Python 3",
   "language": "python",
   "name": "python3"
  },
  "language_info": {
   "codemirror_mode": {
    "name": "ipython",
    "version": 3
   },
   "file_extension": ".py",
   "mimetype": "text/x-python",
   "name": "python",
   "nbconvert_exporter": "python",
   "pygments_lexer": "ipython3",
   "version": "3.5.2"
  }
 },
 "nbformat": 4,
 "nbformat_minor": 4
}
