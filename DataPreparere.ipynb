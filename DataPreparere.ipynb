{
 "cells": [
  {
   "cell_type": "code",
   "execution_count": 1,
   "metadata": {},
   "outputs": [],
   "source": [
    "import os"
   ]
  },
  {
   "cell_type": "code",
   "execution_count": 8,
   "metadata": {},
   "outputs": [],
   "source": [
    "os.chdir(\"..\")\n",
    "allStudents = os.listdir()"
   ]
  },
  {
   "cell_type": "code",
   "execution_count": 76,
   "metadata": {},
   "outputs": [
    {
     "name": "stdout",
     "output_type": "stream",
     "text": [
      "['theam:#FF5733', \"quote:Mi luv y'all\\t\", 'year:2016-2021\\t', 'adress:Kebele 11 Diaspora, Bahir Dar, Ethiopia \\t', \"future:I don't know may be Addis Ababa \\t\", 'socialMedia: +251918764531 and aakselahsees@gmail.com ', \"anythingElse:That's great work. Make it more memorable using pictures we had. Thank yuh .. much love\"]\n",
      "{'future': \"I don't know may be Addis Ababa \\t\", 'quote': \"Mi luv y'all\\t\", 'theam': '#FF5733', 'socialMedia': ' +251918764531 and aakselahsees@gmail.com ', 'year': '2016-2021\\t', 'anythingElse': \"That's great work. Make it more memorable using pictures we had. Thank yuh .. much love\", 'adress': 'Kebele 11 Diaspora, Bahir Dar, Ethiopia \\t'}\n"
     ]
    }
   ],
   "source": [
    "allStudentData = []\n",
    "for eachStudent in allStudents:\n",
    "    name, middleName, lastName = eachStudent.split(\" \")\n",
    "    studentId = name[0:3]+middleName[0:3]+lastNam[0:3]\n",
    "    \n",
    "    os.chdir(eachStudent)\n",
    "    informations = os.listdir()\n",
    "    extraData = open(\"data.txt\",\"r\").read().split(\"\\n\")\n",
    "    imgData = open(\"imageData.txt\",\"r\").read().split(\"\\n\")\n",
    "    textInformmation = {data.split(\":\")[0]:data.split(\":\")[1] for data in extraData})\n",
    "    imageDeiscriptions = {data.split(\":\")[0]:[data.split(\":\")[1].split(\",\")[0], data.split(\":\")[1].split(\",\")[1]] for data in imgData}}\n",
    "    \n",
    "    individualData = {\n",
    "    \"fullName\":eachStudent,\n",
    "    \"quote\":textInformmation[\"quote\"],\n",
    "    \"age\":textInformmation[\"age\"],\n",
    "    \"schoolYear\":textInformmation[\"year\"],\n",
    "    \"address\":textInformmation[\"adress\"],\n",
    "    \"future\":textInformmation[\"future\"],\n",
    "    \"anythingElse\":textInformmation[\"anythingElse\"],\n",
    "    \"socialMedia\":textInformmation[\"socialMedia\"],\n",
    "    \"images\":[\n",
    "        [eachStudent+\"1.png\",[imageDeiscriptions[eachStudent+\"1\"][0],imageDeiscriptions[eachStudent+\"1\"][1]]],\n",
    "        [eachStudent+\"2.png\",[imageDeiscriptions[eachStudent+\"1\"][0],imageDeiscriptions[eachStudent+\"1\"][1]]],\n",
    "        [eachStudent+\"3.png\",[imageDeiscriptions[eachStudent+\"1\"][0],imageDeiscriptions[eachStudent+\"1\"][1]]],\n",
    "        [eachStudent+\"4.png\",[imageDeiscriptions[eachStudent+\"1\"][0],imageDeiscriptions[eachStudent+\"1\"][1]]],\n",
    "        [eachStudent+\"5.png\",[imageDeiscriptions[eachStudent+\"1\"][0],imageDeiscriptions[eachStudent+\"1\"][1]]],\n",
    "        [eachStudent+\"6.png\",[imageDeiscriptions[eachStudent+\"1\"][0],imageDeiscriptions[eachStudent+\"1\"][1]]],\n",
    "    \"cartoonImage\":eachStudent+\"cartoonImage.png\",\n",
    "    \"friendNotes\": [\"\",\"\"],\n",
    "    \"theam\":textInformmation[\"theam\"],\n",
    "    \"bgImage\":eachStudent+\"bgImage.jpg\"\n",
    "    }\n",
    "    allStudentData.append(individualStudent)\n",
    "        \n",
    "#use the jpg forma to find the background imge and givee it its poper name during procesing\n",
    "    os.chdir(\"..\")"
   ]
  }
 ],
 "metadata": {
  "kernelspec": {
   "display_name": "Python 3",
   "language": "python",
   "name": "python3"
  },
  "language_info": {
   "codemirror_mode": {
    "name": "ipython",
    "version": 3
   },
   "file_extension": ".py",
   "mimetype": "text/x-python",
   "name": "python",
   "nbconvert_exporter": "python",
   "pygments_lexer": "ipython3",
   "version": "3.5.2"
  }
 },
 "nbformat": 4,
 "nbformat_minor": 4
}
